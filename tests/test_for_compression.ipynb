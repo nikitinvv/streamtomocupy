{
 "cells": [
  {
   "cell_type": "code",
   "execution_count": 1,
   "id": "e50ebc02",
   "metadata": {},
   "outputs": [],
   "source": [
    "from tomocupy_stream import GPURecRAM\n",
    "import numpy as np\n",
    "import tifffile\n",
    "from ipywidgets import interact, interactive, fixed, interact_manual\n",
    "import ipywidgets as widgets\n",
    "import matplotlib.pyplot as plt\n",
    "%matplotlib inline"
   ]
  },
  {
   "cell_type": "markdown",
   "id": "7bea98cb",
   "metadata": {},
   "source": [
    "# Read data, dark and flat fields, projection angles, the rotation center"
   ]
  },
  {
   "cell_type": "code",
   "execution_count": 2,
   "id": "8c5de4e2",
   "metadata": {},
   "outputs": [],
   "source": [
    "mdict = np.load('/local/data/data_compression.npz')\n",
    "data = mdict['data']\n",
    "dark = mdict['dark']\n",
    "flat = mdict['flat']\n",
    "theta = mdict['theta']\n",
    "center = mdict['center']\n"
   ]
  },
  {
   "cell_type": "markdown",
   "id": "61dfde95",
   "metadata": {},
   "source": [
    "# Data consists of 1501 projections of the size [1024x1360]. For convience data are saved as sinograms (first two dimensions are swapped)"
   ]
  },
  {
   "cell_type": "code",
   "execution_count": 3,
   "id": "596e9047",
   "metadata": {},
   "outputs": [
    {
     "data": {
      "text/plain": [
       "(1024, 751, 1360)"
      ]
     },
     "execution_count": 3,
     "metadata": {},
     "output_type": "execute_result"
    }
   ],
   "source": [
    "data.shape "
   ]
  },
  {
   "cell_type": "markdown",
   "id": "8a9542cf",
   "metadata": {},
   "source": [
    "# Plor projections"
   ]
  },
  {
   "cell_type": "code",
   "execution_count": 4,
   "id": "76c73b36",
   "metadata": {},
   "outputs": [
    {
     "data": {
      "application/vnd.jupyter.widget-view+json": {
       "model_id": "72b470f08d094b50a245c251a2121265",
       "version_major": 2,
       "version_minor": 0
      },
      "text/plain": [
       "interactive(children=(IntSlider(value=375, description='sid', max=750), Output()), _dom_classes=('widget-inter…"
      ]
     },
     "metadata": {},
     "output_type": "display_data"
    },
    {
     "data": {
      "text/plain": [
       "<function __main__.plot_projections(sid=1)>"
      ]
     },
     "execution_count": 4,
     "metadata": {},
     "output_type": "execute_result"
    }
   ],
   "source": [
    "def plot_projections(sid=1):\n",
    "    plt.imshow(data[:,sid],cmap='gray')\n",
    "interact(plot_projections, sid = widgets.IntSlider(value=data.shape[1]//2,\n",
    "                                               min=0,\n",
    "                                               max=data.shape[1]-1,\n",
    "                                               step=1))"
   ]
  },
  {
   "cell_type": "markdown",
   "id": "cf282d12",
   "metadata": {},
   "source": [
    "# Plot sinograms"
   ]
  },
  {
   "cell_type": "code",
   "execution_count": 5,
   "id": "e4134700",
   "metadata": {},
   "outputs": [
    {
     "data": {
      "application/vnd.jupyter.widget-view+json": {
       "model_id": "eb980457b23041d3a3ff2e03a8e692a4",
       "version_major": 2,
       "version_minor": 0
      },
      "text/plain": [
       "interactive(children=(IntSlider(value=512, description='sid', max=1023), Output()), _dom_classes=('widget-inte…"
      ]
     },
     "metadata": {},
     "output_type": "display_data"
    },
    {
     "data": {
      "text/plain": [
       "<function __main__.plot_sinogram(sid=1)>"
      ]
     },
     "execution_count": 5,
     "metadata": {},
     "output_type": "execute_result"
    }
   ],
   "source": [
    "def plot_sinogram(sid=1):\n",
    "    plt.imshow(data[sid],cmap='gray')\n",
    "interact(plot_sinogram, sid = widgets.IntSlider(value=data.shape[0]//2,\n",
    "                                               min=0,\n",
    "                                               max=data.shape[0]-1,\n",
    "                                               step=1))"
   ]
  },
  {
   "cell_type": "markdown",
   "id": "ae0c5eb2",
   "metadata": {},
   "source": [
    "# Create a class for reconstruction. Minus logarithm is turned off, dark=0, flat=1 since the inital data is already preprocessed."
   ]
  },
  {
   "cell_type": "code",
   "execution_count": 6,
   "id": "b5e3dd86",
   "metadata": {},
   "outputs": [],
   "source": [
    "cl = GPURecRAM.for_data_like(\n",
    "    data=data,\n",
    "    dark=dark,\n",
    "    flat=flat,\n",
    "    ncz=8,  # chunk size for GPU processing (multiple of 2), \n",
    "    rotation_axis=center,  # rotation center\n",
    "    dtype=\"float32\",  # computation type, note  for float16 n should be a power of 2\n",
    "    fbp_filter='parzen',\n",
    "    minus_log=False\n",
    ")"
   ]
  },
  {
   "cell_type": "markdown",
   "id": "ca067dfe",
   "metadata": {},
   "source": [
    "# Reconstruct by Tomocupy (the non-command-line version)"
   ]
  },
  {
   "cell_type": "code",
   "execution_count": 7,
   "id": "986c5c41",
   "metadata": {},
   "outputs": [
    {
     "name": "stdout",
     "output_type": "stream",
     "text": [
      "chunk 128/128 |  |████████████████████████████████████████| 100.0% \n"
     ]
    }
   ],
   "source": [
    "obj = cl.recon_all(data, dark, flat, theta)"
   ]
  },
  {
   "cell_type": "code",
   "execution_count": 8,
   "id": "4361eec9",
   "metadata": {},
   "outputs": [
    {
     "data": {
      "application/vnd.jupyter.widget-view+json": {
       "model_id": "b99758a992674d708f4e219ccfc2d628",
       "version_major": 2,
       "version_minor": 0
      },
      "text/plain": [
       "interactive(children=(IntSlider(value=512, description='sid', max=1023), Output()), _dom_classes=('widget-inte…"
      ]
     },
     "metadata": {},
     "output_type": "display_data"
    },
    {
     "data": {
      "text/plain": [
       "<function __main__.plot_rec(sid=1)>"
      ]
     },
     "execution_count": 8,
     "metadata": {},
     "output_type": "execute_result"
    }
   ],
   "source": [
    "def plot_rec(sid=1):\n",
    "    plt.imshow(obj[sid],cmap='gray',vmin=-0.005,vmax=0.01)\n",
    "interact(plot_rec, sid = widgets.IntSlider(value=obj.shape[0]//2,\n",
    "                                               min=0,\n",
    "                                               max=obj.shape[0]-1,\n",
    "                                               step=1))"
   ]
  },
  {
   "cell_type": "markdown",
   "id": "8cc4d023",
   "metadata": {},
   "source": [
    "# Reproject data"
   ]
  },
  {
   "cell_type": "code",
   "execution_count": null,
   "id": "24d3859f",
   "metadata": {},
   "outputs": [
    {
     "name": "stdout",
     "output_type": "stream",
     "text": [
      "chunk 010/128 |  |███-------------------------------------| 7.8% \r"
     ]
    }
   ],
   "source": [
    "data_reproj = cl.proj_all(obj,theta)"
   ]
  },
  {
   "cell_type": "code",
   "execution_count": null,
   "id": "db5cdabe",
   "metadata": {},
   "outputs": [],
   "source": [
    "def plot_projections(sid=1):\n",
    "    plt.figure(figsize=(15,10))\n",
    "    plt.subplot(1,2,1)\n",
    "    plt.title('initial data')\n",
    "    plt.imshow(data[:,sid],cmap='gray')\n",
    "    plt.subplot(1,2,2)\n",
    "    plt.title('reprojected data')\n",
    "    plt.imshow(data_reproj[:,sid],cmap='gray')\n",
    "interact(plot_projections, sid = widgets.IntSlider(value=data.shape[1]//2,\n",
    "                                               min=0,\n",
    "                                               max=data.shape[1]-1,\n",
    "                                               step=1))"
   ]
  },
  {
   "cell_type": "code",
   "execution_count": null,
   "id": "5ab28f9c",
   "metadata": {},
   "outputs": [],
   "source": [
    "def plot_sinogram(sid=1):\n",
    "    plt.figure(figsize=(15,10))\n",
    "    plt.subplot(1,2,1)\n",
    "    plt.title('initial data')\n",
    "    plt.imshow(data[sid],cmap='gray')\n",
    "    plt.subplot(1,2,2)\n",
    "    plt.title('reprojected data')\n",
    "    plt.imshow(data_reproj[sid],cmap='gray')    \n",
    "interact(plot_sinogram, sid = widgets.IntSlider(value=data.shape[0]//2,\n",
    "                                               min=0,\n",
    "                                               max=data.shape[0]-1,\n",
    "                                               step=1))"
   ]
  },
  {
   "cell_type": "markdown",
   "id": "5a345a9b",
   "metadata": {},
   "source": [
    "# Reconstruct the object by using reprojected data"
   ]
  },
  {
   "cell_type": "markdown",
   "id": "6693c399",
   "metadata": {},
   "source": [
    "## We can use the ramp filter instead of the parzen filter since we want to keep high frequencies in images. So we recreate the reconstruction class"
   ]
  },
  {
   "cell_type": "code",
   "execution_count": null,
   "id": "7ec80ada",
   "metadata": {},
   "outputs": [],
   "source": [
    "cl = GPURecRAM.for_data_like(\n",
    "    data=data,\n",
    "    dark=dark,\n",
    "    flat=flat,\n",
    "    ncz=8,  # chunk size for GPU processing (multiple of 2), \n",
    "    rotation_axis=center,  # rotation center\n",
    "    dtype=\"float32\",  # computation type, note  for float16 n should be a power of 2\n",
    "    fbp_filter='ramp',\n",
    "    minus_log=False\n",
    ")"
   ]
  },
  {
   "cell_type": "code",
   "execution_count": null,
   "id": "64c2457c",
   "metadata": {},
   "outputs": [],
   "source": [
    "obj_reproj = cl.recon_all(data_reproj, dark, flat, theta)"
   ]
  },
  {
   "cell_type": "markdown",
   "id": "cc1c5aa6",
   "metadata": {},
   "source": [
    "## Adjust scaling"
   ]
  },
  {
   "cell_type": "code",
   "execution_count": null,
   "id": "3a42b566",
   "metadata": {},
   "outputs": [],
   "source": [
    "obj_reproj*=np.linalg.norm(obj)/np.linalg.norm(obj_reproj)"
   ]
  },
  {
   "cell_type": "code",
   "execution_count": null,
   "id": "b24df0bf",
   "metadata": {},
   "outputs": [],
   "source": [
    "def plot_rec(sid=1):\n",
    "    plt.figure(figsize=(15,10))\n",
    "    plt.subplot(1,2,1)\n",
    "    plt.title('initial reconstruction')\n",
    "    plt.imshow(obj_reproj[sid],cmap='gray',vmin=-0.005,vmax=0.01)\n",
    "    plt.colorbar(orientation='horizontal')\n",
    "    plt.subplot(1,2,2)\n",
    "    plt.title('reconstruction after reprojection')\n",
    "    plt.imshow(obj[sid],cmap='gray',vmin=-0.005,vmax=0.01)\n",
    "    plt.colorbar(orientation='horizontal')\n",
    "interact(plot_rec, sid = widgets.IntSlider(value=obj.shape[0]//2,\n",
    "                                               min=0,\n",
    "                                               max=obj.shape[0]-1,\n",
    "                                               step=1))"
   ]
  },
  {
   "cell_type": "markdown",
   "id": "bdddc596",
   "metadata": {},
   "source": [
    "## Plot difference, note colorbar"
   ]
  },
  {
   "cell_type": "code",
   "execution_count": null,
   "id": "7d5eaa46",
   "metadata": {},
   "outputs": [],
   "source": [
    "def plot_rec(sid=1):\n",
    "    plt.figure(figsize=(15,10))\n",
    "    plt.imshow(obj[sid]-obj_reproj[sid],cmap='gray',vmin=-0.0002,vmax=0.0002)    \n",
    "    plt.colorbar(orientation='horizontal')\n",
    "interact(plot_rec, sid = widgets.IntSlider(value=obj.shape[0]//2,\n",
    "                                               min=0,\n",
    "                                               max=obj.shape[0]-1,\n",
    "                                               step=1))"
   ]
  },
  {
   "cell_type": "markdown",
   "id": "5c1553f0",
   "metadata": {},
   "source": [
    "# Conclusion. 1. Data after reprojection give the same reconstruction as the initial data. But reprojected data is less noisy, looks smoother (not many hig frequency components) and might be easier to compress. 2. The reconstructed object and its reprojected data can be considered as a synthetic data for further compression tests. We have 1-1 mapping between the object and the data."
   ]
  },
  {
   "cell_type": "code",
   "execution_count": null,
   "id": "2a6d0ae0",
   "metadata": {},
   "outputs": [],
   "source": []
  }
 ],
 "metadata": {
  "kernelspec": {
   "display_name": "Python 3 (ipykernel)",
   "language": "python",
   "name": "python3"
  },
  "language_info": {
   "codemirror_mode": {
    "name": "ipython",
    "version": 3
   },
   "file_extension": ".py",
   "mimetype": "text/x-python",
   "name": "python",
   "nbconvert_exporter": "python",
   "pygments_lexer": "ipython3",
   "version": "3.9.10"
  }
 },
 "nbformat": 4,
 "nbformat_minor": 5
}
